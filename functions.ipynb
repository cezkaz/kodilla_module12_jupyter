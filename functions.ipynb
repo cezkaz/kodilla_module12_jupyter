{
 "cells": [
  {
   "cell_type": "markdown",
   "id": "69c1b216-68f2-49f9-805a-356d2659f1d2",
   "metadata": {},
   "source": [
    "# This is my second notebook with a name functions. This text is made with Markdown.\n",
    "A function is a block of code which only runs when it is called.\n",
    "\n",
    "You can pass data, known as parameters, into a function.\n",
    "\n",
    "A function can return data as a result.\n",
    "\n",
    "In Python a function is defined using the def keyword:\n",
    "\n",
    "def my_function():\n",
    "  print(\"Hello from a function\")\n",
    "  \n",
    "To call a function, use the function name followed by parenthesis:\n",
    "\n",
    "def my_function():\n",
    "  print(\"Hello from a function\")\n",
    "\n",
    "my_function()"
   ]
  },
  {
   "cell_type": "code",
   "execution_count": 1,
   "id": "0738c41a-2543-4de3-a533-d5b1a507d091",
   "metadata": {},
   "outputs": [
    {
     "name": "stdout",
     "output_type": "stream",
     "text": [
      "Cezary Kaźmierczak\n"
     ]
    }
   ],
   "source": [
    "def my_function(fname, lname):\n",
    "  print(fname + \" \" + lname)\n",
    "\n",
    "my_function(\"Cezary\", \"Kaźmierczak\")"
   ]
  },
  {
   "cell_type": "code",
   "execution_count": 2,
   "id": "91aac16e-2ef1-4f6b-88b9-5ad7c1da32ca",
   "metadata": {},
   "outputs": [
    {
     "name": "stdout",
     "output_type": "stream",
     "text": [
      "15\n",
      "25\n",
      "60\n"
     ]
    }
   ],
   "source": [
    "def my_function(x):\n",
    "  return 5 * x\n",
    "\n",
    "print(my_function(3))\n",
    "print(my_function(5))\n",
    "print(my_function(12))"
   ]
  },
  {
   "cell_type": "code",
   "execution_count": null,
   "id": "20f34993-3c2a-477e-8326-c9d97368b12d",
   "metadata": {},
   "outputs": [],
   "source": []
  }
 ],
 "metadata": {
  "kernelspec": {
   "display_name": "Python 3 (ipykernel)",
   "language": "python",
   "name": "python3"
  },
  "language_info": {
   "codemirror_mode": {
    "name": "ipython",
    "version": 3
   },
   "file_extension": ".py",
   "mimetype": "text/x-python",
   "name": "python",
   "nbconvert_exporter": "python",
   "pygments_lexer": "ipython3",
   "version": "3.8.10"
  }
 },
 "nbformat": 4,
 "nbformat_minor": 5
}
