{
 "cells": [
  {
   "cell_type": "code",
   "execution_count": null,
   "id": "5f281c72-eecf-409d-877c-6524b81c3e49",
   "metadata": {},
   "outputs": [],
   "source": [
    "import numpy as np\n",
    "import pandas as pd\n",
    "import plotly.graph_objects as go\n",
    "import plotly.offline as pyo\n",
    "prices = [\n",
    "    (1, 2.12),\n",
    "    (2, 2.56),\n",
    "    (3, 3.10),\n",
    "    (4, 3.16),\n",
    "    (5, 3.58),\n",
    "    (6, 5.12),\n",
    "    (7, 5.16),\n",
    "    (8, 5.20),\n",
    "    (9, 4.12),\n",
    "    (10, 4.10),\n",
    "    (11, 3.65),\n",
    "    (12, 4.25),\n",
    "]\n",
    "df = pd.DataFrame(prices, columns=[\"month\", \"price_PLN\"])\n",
    "price_USD = df['price_PLN'].apply(lambda price_PLN: price_PLN/4)\n",
    "df['price_USD'] = price_USD\n",
    "fig = go.Figure(\n",
    "    data=[\n",
    "        go.Scatter(\n",
    "            x=df['month'],\n",
    "            y=df['price_USD'],\n",
    "            mode='lines+markers',\n",
    "            name='Price of goods (USD)',\n",
    "            line=dict(\n",
    "                color='red',\n",
    "                dash='dash',\n",
    "                width=2\n",
    "            )\n",
    "        )\n",
    "    ],\n",
    "    layout=go.Layout(\n",
    "        title='Price of goods (USD)',\n",
    "        hovermode='x')\n",
    ")\n",
    "pyo.plot(fig)"
   ]
  }
 ],
 "metadata": {
  "kernelspec": {
   "display_name": "Python 3 (ipykernel)",
   "language": "python",
   "name": "python3"
  },
  "language_info": {
   "codemirror_mode": {
    "name": "ipython",
    "version": 3
   },
   "file_extension": ".py",
   "mimetype": "text/x-python",
   "name": "python",
   "nbconvert_exporter": "python",
   "pygments_lexer": "ipython3",
   "version": "3.8.10"
  }
 },
 "nbformat": 4,
 "nbformat_minor": 5
}
